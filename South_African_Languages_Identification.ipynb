{
 "cells": [
  {
   "cell_type": "markdown",
   "id": "4522a22f",
   "metadata": {},
   "source": [
    "# EDSA 2022 Classification Hackathon"
   ]
  },
  {
   "cell_type": "markdown",
   "id": "b9e92741",
   "metadata": {},
   "source": [
    "## South African Languages Identification"
   ]
  },
  {
   "cell_type": "markdown",
   "id": "8109fe60",
   "metadata": {},
   "source": [
    "By **LUNGISA NHLAKANIPHO JOCTREY**"
   ]
  },
  {
   "cell_type": "markdown",
   "id": "eb825645",
   "metadata": {},
   "source": [
    "South Africa is a multicultural society that is characterised by its rich linguistic diversity. Language is an indispensable tool that can be used to deepen democracy and also contribute to the social, cultural, intellectual, economic and political life of the South African society.\n",
    "\n",
    "The country is multilingual with 11 official languages, each of which is guaranteed equal status. Most South Africans are multilingual and able to speak at least two or more of the official languages.\n",
    "\n",
    "Credit:https://www.kaggle.com/competitions/south-african-language-identification/overview"
   ]
  },
  {
   "cell_type": "markdown",
   "id": "94677fd4",
   "metadata": {},
   "source": [
    "### Table of Contents"
   ]
  },
  {
   "cell_type": "markdown",
   "id": "8aafad15",
   "metadata": {},
   "source": [
    "1. Introduction\n",
    "2. Importing Packages and Data Loading\n",
    "3. Exploratory Data Analysis\n",
    "4. Data Preprocessing\n",
    "5. Modelling\n",
    "6. Model Analysis"
   ]
  },
  {
   "cell_type": "markdown",
   "id": "80a3d810",
   "metadata": {},
   "source": [
    "### 1. Introduction"
   ]
  },
  {
   "cell_type": "markdown",
   "id": "f4c387ef",
   "metadata": {},
   "source": [
    "The end goal of this project is to develop a model that will be able to take a piece if text and identify the language in which it is written. each prediction a modell will make will the be submitted to Kaggle where it will be evaluated and allocated a score and rank.\n",
    "\n",
    "I will start off by importing libraries that I can use to colpete the project at hand. Next, I will be loading train_set.csv as df_train and test_set.csv as df_test. After loading the data, I will then display the datasets, to see how they look like. \n",
    "\n",
    "Next, I will do the Exploratory Data Analysis (EDA) to gain insight on the data. In this section I will look for missing, values, null values and also see what data types are in the features. with help of graphs and words cloud, I will gain more insight on the data. I will also creat new features if necessary.\n",
    "\n",
    "Then I will do data preprocessing. Basically, this will be getting the data for the model.\n",
    "\n",
    "I will then build and train my models.\n"
   ]
  },
  {
   "cell_type": "markdown",
   "id": "4a7f8f89",
   "metadata": {},
   "source": [
    "### 2. Importing Packages and Data Loading"
   ]
  },
  {
   "cell_type": "markdown",
   "id": "bbc49c6e",
   "metadata": {},
   "source": [
    "#### 2.1 Importing Packages"
   ]
  },
  {
   "cell_type": "markdown",
   "id": "d195b4ac",
   "metadata": {},
   "source": [
    "The first thing I will do now is to load all the necessary libraries or modules needed for this project."
   ]
  },
  {
   "cell_type": "code",
   "execution_count": 141,
   "id": "608b5411",
   "metadata": {},
   "outputs": [],
   "source": [
    "#Importing Standard Data Science Packages\n",
    "import pandas as pd\n",
    "import numpy as np \n",
    "\n",
    "#Importing Language Classification Packages\n",
    "import sklearn\n",
    "import nltk\n",
    "import re\n",
    "from nltk import TreebankWordTokenizer, SnowballStemmer\n",
    "from nltk.stem import WordNetLemmatizer\n",
    "from nltk.corpus import stopwords\n",
    "\n",
    "#importing sklearn\n",
    "from sklearn.metrics import classification_report\n",
    "from sklearn.feature_extraction.text import CountVectorizer\n",
    "from sklearn.feature_extraction.text import TfidfTransformer\n",
    "from sklearn.model_selection import train_test_split\n",
    "from sklearn.naive_bayes import MultinomialNB\n",
    "from sklearn.metrics import f1_score\n",
    "\n",
    "#Importinng Visualization Packages\n",
    "import matplotlib.pyplot as plt\n",
    "%matplotlib inline\n",
    "import seaborn as sns\n"
   ]
  },
  {
   "cell_type": "markdown",
   "id": "ace84929",
   "metadata": {},
   "source": [
    "#### 2.2 Loading Data"
   ]
  },
  {
   "cell_type": "markdown",
   "id": "af217e40",
   "metadata": {},
   "source": [
    "In this section, I will load the two datasets: train_set.csv and test_set.csv"
   ]
  },
  {
   "cell_type": "code",
   "execution_count": 142,
   "id": "b2abd9c2",
   "metadata": {},
   "outputs": [],
   "source": [
    "#loading datasets\n",
    "\n",
    "#training dataset\n",
    "\n",
    "df_train = pd.read_csv('resources/train_set.csv')\n",
    "\n",
    "#test dataset\n",
    "df_test = pd.read_csv('resources/test_set.csv')\n"
   ]
  },
  {
   "cell_type": "markdown",
   "id": "8f5dda9f",
   "metadata": {},
   "source": [
    "#### 2.3 Displaying Datasets"
   ]
  },
  {
   "cell_type": "markdown",
   "id": "a1896137",
   "metadata": {},
   "source": [
    "Lets us look at the datset as they are."
   ]
  },
  {
   "cell_type": "code",
   "execution_count": 143,
   "id": "b9b82737",
   "metadata": {},
   "outputs": [
    {
     "data": {
      "text/html": [
       "<div>\n",
       "<style scoped>\n",
       "    .dataframe tbody tr th:only-of-type {\n",
       "        vertical-align: middle;\n",
       "    }\n",
       "\n",
       "    .dataframe tbody tr th {\n",
       "        vertical-align: top;\n",
       "    }\n",
       "\n",
       "    .dataframe thead th {\n",
       "        text-align: right;\n",
       "    }\n",
       "</style>\n",
       "<table border=\"1\" class=\"dataframe\">\n",
       "  <thead>\n",
       "    <tr style=\"text-align: right;\">\n",
       "      <th></th>\n",
       "      <th>lang_id</th>\n",
       "      <th>text</th>\n",
       "    </tr>\n",
       "  </thead>\n",
       "  <tbody>\n",
       "    <tr>\n",
       "      <th>0</th>\n",
       "      <td>xho</td>\n",
       "      <td>umgaqo-siseko wenza amalungiselelo kumaziko ax...</td>\n",
       "    </tr>\n",
       "    <tr>\n",
       "      <th>1</th>\n",
       "      <td>xho</td>\n",
       "      <td>i-dha iya kuba nobulumko bokubeka umsebenzi na...</td>\n",
       "    </tr>\n",
       "    <tr>\n",
       "      <th>2</th>\n",
       "      <td>eng</td>\n",
       "      <td>the province of kwazulu-natal department of tr...</td>\n",
       "    </tr>\n",
       "    <tr>\n",
       "      <th>3</th>\n",
       "      <td>nso</td>\n",
       "      <td>o netefatša gore o ba file dilo ka moka tše le...</td>\n",
       "    </tr>\n",
       "    <tr>\n",
       "      <th>4</th>\n",
       "      <td>ven</td>\n",
       "      <td>khomishini ya ndinganyiso ya mbeu yo ewa maana...</td>\n",
       "    </tr>\n",
       "  </tbody>\n",
       "</table>\n",
       "</div>"
      ],
      "text/plain": [
       "  lang_id                                               text\n",
       "0     xho  umgaqo-siseko wenza amalungiselelo kumaziko ax...\n",
       "1     xho  i-dha iya kuba nobulumko bokubeka umsebenzi na...\n",
       "2     eng  the province of kwazulu-natal department of tr...\n",
       "3     nso  o netefatša gore o ba file dilo ka moka tše le...\n",
       "4     ven  khomishini ya ndinganyiso ya mbeu yo ewa maana..."
      ]
     },
     "execution_count": 143,
     "metadata": {},
     "output_type": "execute_result"
    }
   ],
   "source": [
    "#Displaying Training dataset\n",
    "df_train.head()"
   ]
  },
  {
   "cell_type": "code",
   "execution_count": 144,
   "id": "daf43ca0",
   "metadata": {},
   "outputs": [
    {
     "data": {
      "text/html": [
       "<div>\n",
       "<style scoped>\n",
       "    .dataframe tbody tr th:only-of-type {\n",
       "        vertical-align: middle;\n",
       "    }\n",
       "\n",
       "    .dataframe tbody tr th {\n",
       "        vertical-align: top;\n",
       "    }\n",
       "\n",
       "    .dataframe thead th {\n",
       "        text-align: right;\n",
       "    }\n",
       "</style>\n",
       "<table border=\"1\" class=\"dataframe\">\n",
       "  <thead>\n",
       "    <tr style=\"text-align: right;\">\n",
       "      <th></th>\n",
       "      <th>index</th>\n",
       "      <th>text</th>\n",
       "    </tr>\n",
       "  </thead>\n",
       "  <tbody>\n",
       "    <tr>\n",
       "      <th>0</th>\n",
       "      <td>1</td>\n",
       "      <td>Mmasepala, fa maemo a a kgethegileng a letlele...</td>\n",
       "    </tr>\n",
       "    <tr>\n",
       "      <th>1</th>\n",
       "      <td>2</td>\n",
       "      <td>Uzakwaziswa ngokufaneleko nakungafuneka eminye...</td>\n",
       "    </tr>\n",
       "    <tr>\n",
       "      <th>2</th>\n",
       "      <td>3</td>\n",
       "      <td>Tshivhumbeo tshi fana na ngano dza vhathu.</td>\n",
       "    </tr>\n",
       "    <tr>\n",
       "      <th>3</th>\n",
       "      <td>4</td>\n",
       "      <td>Kube inja nelikati betingevakala kutsi titsini...</td>\n",
       "    </tr>\n",
       "    <tr>\n",
       "      <th>4</th>\n",
       "      <td>5</td>\n",
       "      <td>Winste op buitelandse valuta.</td>\n",
       "    </tr>\n",
       "  </tbody>\n",
       "</table>\n",
       "</div>"
      ],
      "text/plain": [
       "   index                                               text\n",
       "0      1  Mmasepala, fa maemo a a kgethegileng a letlele...\n",
       "1      2  Uzakwaziswa ngokufaneleko nakungafuneka eminye...\n",
       "2      3         Tshivhumbeo tshi fana na ngano dza vhathu.\n",
       "3      4  Kube inja nelikati betingevakala kutsi titsini...\n",
       "4      5                      Winste op buitelandse valuta."
      ]
     },
     "execution_count": 144,
     "metadata": {},
     "output_type": "execute_result"
    }
   ],
   "source": [
    "#Displaying Test Set\n",
    "df_test.head()"
   ]
  },
  {
   "cell_type": "markdown",
   "id": "30b20d6a",
   "metadata": {},
   "source": [
    "At face value the training dataset appears to be in some what good condition. It is observable that all the words seem to be in the lower case. We shall further investigate the data in the EDA section.\n",
    "\n",
    "The Training data has two features, namely:\n",
    "- **lang_id** - this is the langauage Id\n",
    "- **text**   - the is the text we shall use to train the models   \n",
    "\n",
    "The test data needs some attention. Some words have capital letters and we need to change that in the EDA section.\n",
    "This also have two features, namely:\n",
    "- **index** - counting from 1 instead of 0\n",
    "- **text** - this the text to be use to test the model in making predictions of the language Id "
   ]
  },
  {
   "cell_type": "markdown",
   "id": "31e119a0",
   "metadata": {},
   "source": [
    "### 3. Exploratory Data Analysis  (EDA)"
   ]
  },
  {
   "cell_type": "markdown",
   "id": "6115fc50",
   "metadata": {},
   "source": [
    "In the section wes shall investigate both data sets to gain some insight. We will first check for missing or null values."
   ]
  },
  {
   "cell_type": "markdown",
   "id": "b692b953",
   "metadata": {},
   "source": [
    "#### 3.1 Training Dataset"
   ]
  },
  {
   "cell_type": "markdown",
   "id": "d2a6c00a",
   "metadata": {},
   "source": [
    "Let us check for NULL or missing values and basic info of the training dataset."
   ]
  },
  {
   "cell_type": "code",
   "execution_count": 145,
   "id": "3ad520f3",
   "metadata": {},
   "outputs": [
    {
     "name": "stdout",
     "output_type": "stream",
     "text": [
      "<class 'pandas.core.frame.DataFrame'>\n",
      "RangeIndex: 33000 entries, 0 to 32999\n",
      "Data columns (total 2 columns):\n",
      " #   Column   Non-Null Count  Dtype \n",
      "---  ------   --------------  ----- \n",
      " 0   lang_id  33000 non-null  object\n",
      " 1   text     33000 non-null  object\n",
      "dtypes: object(2)\n",
      "memory usage: 515.8+ KB\n"
     ]
    }
   ],
   "source": [
    "# get information on the data\n",
    "df_train.info()"
   ]
  },
  {
   "cell_type": "code",
   "execution_count": 146,
   "id": "b8c06b21",
   "metadata": {},
   "outputs": [
    {
     "data": {
      "text/plain": [
       "lang_id    0\n",
       "text       0\n",
       "dtype: int64"
      ]
     },
     "execution_count": 146,
     "metadata": {},
     "output_type": "execute_result"
    }
   ],
   "source": [
    "#Checking for NULL values\n",
    "\n",
    "df_train.isnull().sum()"
   ]
  },
  {
   "cell_type": "markdown",
   "id": "64c3cff2",
   "metadata": {},
   "source": [
    "Great! Our dataset has no NULL values and all the features are object types. b"
   ]
  },
  {
   "cell_type": "code",
   "execution_count": 147,
   "id": "699ad891",
   "metadata": {},
   "outputs": [
    {
     "name": "stdout",
     "output_type": "stream",
     "text": [
      "!\"#$%&'()*+,-./:;<=>?@[\\]^_`{|}~\n"
     ]
    }
   ],
   "source": [
    "#Removing Pactuation\n",
    "\n",
    "import string\n",
    "print(string.punctuation)"
   ]
  },
  {
   "cell_type": "code",
   "execution_count": 148,
   "id": "0077eb00",
   "metadata": {},
   "outputs": [],
   "source": [
    "\n",
    "def remove_punctuation(post):\n",
    "    return ''.join([l for l in post if l not in string.punctuation])"
   ]
  },
  {
   "cell_type": "code",
   "execution_count": 149,
   "id": "9c32df6f",
   "metadata": {},
   "outputs": [
    {
     "data": {
      "text/html": [
       "<div>\n",
       "<style scoped>\n",
       "    .dataframe tbody tr th:only-of-type {\n",
       "        vertical-align: middle;\n",
       "    }\n",
       "\n",
       "    .dataframe tbody tr th {\n",
       "        vertical-align: top;\n",
       "    }\n",
       "\n",
       "    .dataframe thead th {\n",
       "        text-align: right;\n",
       "    }\n",
       "</style>\n",
       "<table border=\"1\" class=\"dataframe\">\n",
       "  <thead>\n",
       "    <tr style=\"text-align: right;\">\n",
       "      <th></th>\n",
       "      <th>lang_id</th>\n",
       "      <th>text</th>\n",
       "    </tr>\n",
       "  </thead>\n",
       "  <tbody>\n",
       "    <tr>\n",
       "      <th>0</th>\n",
       "      <td>xho</td>\n",
       "      <td>umgaqosiseko wenza amalungiselelo kumaziko axh...</td>\n",
       "    </tr>\n",
       "    <tr>\n",
       "      <th>1</th>\n",
       "      <td>xho</td>\n",
       "      <td>idha iya kuba nobulumko bokubeka umsebenzi nap...</td>\n",
       "    </tr>\n",
       "    <tr>\n",
       "      <th>2</th>\n",
       "      <td>eng</td>\n",
       "      <td>the province of kwazulunatal department of tra...</td>\n",
       "    </tr>\n",
       "    <tr>\n",
       "      <th>3</th>\n",
       "      <td>nso</td>\n",
       "      <td>o netefatša gore o ba file dilo ka moka tše le...</td>\n",
       "    </tr>\n",
       "    <tr>\n",
       "      <th>4</th>\n",
       "      <td>ven</td>\n",
       "      <td>khomishini ya ndinganyiso ya mbeu yo ewa maana...</td>\n",
       "    </tr>\n",
       "    <tr>\n",
       "      <th>...</th>\n",
       "      <td>...</td>\n",
       "      <td>...</td>\n",
       "    </tr>\n",
       "    <tr>\n",
       "      <th>32995</th>\n",
       "      <td>tsn</td>\n",
       "      <td>popo ya dipolateforomo tse ke go tlisa boetele...</td>\n",
       "    </tr>\n",
       "    <tr>\n",
       "      <th>32996</th>\n",
       "      <td>sot</td>\n",
       "      <td>modise mosadi na o ntse o sa utlwe hore thaban...</td>\n",
       "    </tr>\n",
       "    <tr>\n",
       "      <th>32997</th>\n",
       "      <td>eng</td>\n",
       "      <td>closing date for the submission of completed t...</td>\n",
       "    </tr>\n",
       "    <tr>\n",
       "      <th>32998</th>\n",
       "      <td>xho</td>\n",
       "      <td>nawuphina umntu ofunyenwe enetyala phantsi kwa...</td>\n",
       "    </tr>\n",
       "    <tr>\n",
       "      <th>32999</th>\n",
       "      <td>sot</td>\n",
       "      <td>mafapha a mang le ona a lokela ho etsa ditlale...</td>\n",
       "    </tr>\n",
       "  </tbody>\n",
       "</table>\n",
       "<p>33000 rows × 2 columns</p>\n",
       "</div>"
      ],
      "text/plain": [
       "      lang_id                                               text\n",
       "0         xho  umgaqosiseko wenza amalungiselelo kumaziko axh...\n",
       "1         xho  idha iya kuba nobulumko bokubeka umsebenzi nap...\n",
       "2         eng  the province of kwazulunatal department of tra...\n",
       "3         nso  o netefatša gore o ba file dilo ka moka tše le...\n",
       "4         ven  khomishini ya ndinganyiso ya mbeu yo ewa maana...\n",
       "...       ...                                                ...\n",
       "32995     tsn  popo ya dipolateforomo tse ke go tlisa boetele...\n",
       "32996     sot  modise mosadi na o ntse o sa utlwe hore thaban...\n",
       "32997     eng  closing date for the submission of completed t...\n",
       "32998     xho  nawuphina umntu ofunyenwe enetyala phantsi kwa...\n",
       "32999     sot  mafapha a mang le ona a lokela ho etsa ditlale...\n",
       "\n",
       "[33000 rows x 2 columns]"
      ]
     },
     "execution_count": 149,
     "metadata": {},
     "output_type": "execute_result"
    }
   ],
   "source": [
    "df_train['text'] = df_train['text'].apply(remove_punctuation)\n",
    "df_train"
   ]
  },
  {
   "cell_type": "code",
   "execution_count": 150,
   "id": "baf2a98f",
   "metadata": {},
   "outputs": [
    {
     "data": {
      "text/plain": [
       "lang_id\n",
       "afr    3000\n",
       "eng    3000\n",
       "nbl    3000\n",
       "nso    3000\n",
       "sot    3000\n",
       "ssw    3000\n",
       "tsn    3000\n",
       "tso    3000\n",
       "ven    3000\n",
       "xho    3000\n",
       "zul    3000\n",
       "dtype: int64"
      ]
     },
     "execution_count": 150,
     "metadata": {},
     "output_type": "execute_result"
    }
   ],
   "source": [
    "df_train.groupby('lang_id').size()"
   ]
  },
  {
   "cell_type": "code",
   "execution_count": 151,
   "id": "6beccabd",
   "metadata": {},
   "outputs": [
    {
     "data": {
      "text/plain": [
       "<AxesSubplot:>"
      ]
     },
     "execution_count": 151,
     "metadata": {},
     "output_type": "execute_result"
    },
    {
     "data": {
      "image/png": "[encoded data removed]",
      "text/plain": [
       "<Figure size 432x288 with 1 Axes>"
      ]
     },
     "metadata": {
      "needs_background": "light"
     },
     "output_type": "display_data"
    }
   ],
   "source": [
    "#\n",
    "df_train.lang_id.value_counts().sort_values(ascending = False).plot(kind = 'bar')"
   ]
  },
  {
   "cell_type": "markdown",
   "id": "5d5b144b",
   "metadata": {},
   "source": [
    "In the above Bar Graph, the data seems to be fairly balanced."
   ]
  },
  {
   "cell_type": "code",
   "execution_count": null,
   "id": "21759037",
   "metadata": {},
   "outputs": [],
   "source": []
  },
  {
   "cell_type": "markdown",
   "id": "2d45178c",
   "metadata": {},
   "source": [
    "#### 3.2 Test Dataset"
   ]
  },
  {
   "cell_type": "markdown",
   "id": "5a974573",
   "metadata": {},
   "source": [
    "Let us check for null or missing values and basic info of the test dataset."
   ]
  },
  {
   "cell_type": "code",
   "execution_count": 152,
   "id": "3f167bc1",
   "metadata": {},
   "outputs": [
    {
     "name": "stdout",
     "output_type": "stream",
     "text": [
      "<class 'pandas.core.frame.DataFrame'>\n",
      "RangeIndex: 5682 entries, 0 to 5681\n",
      "Data columns (total 2 columns):\n",
      " #   Column  Non-Null Count  Dtype \n",
      "---  ------  --------------  ----- \n",
      " 0   index   5682 non-null   int64 \n",
      " 1   text    5682 non-null   object\n",
      "dtypes: int64(1), object(1)\n",
      "memory usage: 88.9+ KB\n"
     ]
    }
   ],
   "source": [
    "df_test.info()"
   ]
  },
  {
   "cell_type": "code",
   "execution_count": 153,
   "id": "5028e496",
   "metadata": {},
   "outputs": [
    {
     "data": {
      "text/plain": [
       "index    0\n",
       "text     0\n",
       "dtype: int64"
      ]
     },
     "execution_count": 153,
     "metadata": {},
     "output_type": "execute_result"
    }
   ],
   "source": [
    "#Checking for NULL values\n",
    "\n",
    "df_test.isnull().sum()"
   ]
  },
  {
   "cell_type": "code",
   "execution_count": 154,
   "id": "f188533b-1d77-498b-a609-498deb596ee1",
   "metadata": {},
   "outputs": [
    {
     "data": {
      "text/html": [
       "<div>\n",
       "<style scoped>\n",
       "    .dataframe tbody tr th:only-of-type {\n",
       "        vertical-align: middle;\n",
       "    }\n",
       "\n",
       "    .dataframe tbody tr th {\n",
       "        vertical-align: top;\n",
       "    }\n",
       "\n",
       "    .dataframe thead th {\n",
       "        text-align: right;\n",
       "    }\n",
       "</style>\n",
       "<table border=\"1\" class=\"dataframe\">\n",
       "  <thead>\n",
       "    <tr style=\"text-align: right;\">\n",
       "      <th></th>\n",
       "      <th>index</th>\n",
       "      <th>text</th>\n",
       "    </tr>\n",
       "  </thead>\n",
       "  <tbody>\n",
       "    <tr>\n",
       "      <th>0</th>\n",
       "      <td>1</td>\n",
       "      <td>mmasepala, fa maemo a a kgethegileng a letlele...</td>\n",
       "    </tr>\n",
       "    <tr>\n",
       "      <th>1</th>\n",
       "      <td>2</td>\n",
       "      <td>uzakwaziswa ngokufaneleko nakungafuneka eminye...</td>\n",
       "    </tr>\n",
       "    <tr>\n",
       "      <th>2</th>\n",
       "      <td>3</td>\n",
       "      <td>tshivhumbeo tshi fana na ngano dza vhathu.</td>\n",
       "    </tr>\n",
       "    <tr>\n",
       "      <th>3</th>\n",
       "      <td>4</td>\n",
       "      <td>kube inja nelikati betingevakala kutsi titsini...</td>\n",
       "    </tr>\n",
       "    <tr>\n",
       "      <th>4</th>\n",
       "      <td>5</td>\n",
       "      <td>winste op buitelandse valuta.</td>\n",
       "    </tr>\n",
       "    <tr>\n",
       "      <th>...</th>\n",
       "      <td>...</td>\n",
       "      <td>...</td>\n",
       "    </tr>\n",
       "    <tr>\n",
       "      <th>5677</th>\n",
       "      <td>5678</td>\n",
       "      <td>you mark your ballot in private.</td>\n",
       "    </tr>\n",
       "    <tr>\n",
       "      <th>5678</th>\n",
       "      <td>5679</td>\n",
       "      <td>ge o ka kgetha ka bowena go se šomiše mofani k...</td>\n",
       "    </tr>\n",
       "    <tr>\n",
       "      <th>5679</th>\n",
       "      <td>5680</td>\n",
       "      <td>e ka kopo etsa kgetho ya hao ka hloko, hobane ...</td>\n",
       "    </tr>\n",
       "    <tr>\n",
       "      <th>5680</th>\n",
       "      <td>5681</td>\n",
       "      <td>tb ke bokudi ba pmb, mme morero o tla lefella ...</td>\n",
       "    </tr>\n",
       "    <tr>\n",
       "      <th>5681</th>\n",
       "      <td>5682</td>\n",
       "      <td>vakatjhela iwebhusayidi yethu ku-www.</td>\n",
       "    </tr>\n",
       "  </tbody>\n",
       "</table>\n",
       "<p>5682 rows × 2 columns</p>\n",
       "</div>"
      ],
      "text/plain": [
       "     index                                               text\n",
       "0        1  mmasepala, fa maemo a a kgethegileng a letlele...\n",
       "1        2  uzakwaziswa ngokufaneleko nakungafuneka eminye...\n",
       "2        3         tshivhumbeo tshi fana na ngano dza vhathu.\n",
       "3        4  kube inja nelikati betingevakala kutsi titsini...\n",
       "4        5                      winste op buitelandse valuta.\n",
       "...    ...                                                ...\n",
       "5677  5678                   you mark your ballot in private.\n",
       "5678  5679  ge o ka kgetha ka bowena go se šomiše mofani k...\n",
       "5679  5680  e ka kopo etsa kgetho ya hao ka hloko, hobane ...\n",
       "5680  5681  tb ke bokudi ba pmb, mme morero o tla lefella ...\n",
       "5681  5682              vakatjhela iwebhusayidi yethu ku-www.\n",
       "\n",
       "[5682 rows x 2 columns]"
      ]
     },
     "execution_count": 154,
     "metadata": {},
     "output_type": "execute_result"
    }
   ],
   "source": [
    "df_test.apply(lambda x: x.astype(str).str.lower())"
   ]
  },
  {
   "cell_type": "markdown",
   "id": "ee1c368c",
   "metadata": {},
   "source": [
    "### 4. Data Processing"
   ]
  },
  {
   "cell_type": "markdown",
   "id": "677f693f",
   "metadata": {},
   "source": []
  },
  {
   "cell_type": "code",
   "execution_count": 155,
   "id": "472e3d40",
   "metadata": {},
   "outputs": [],
   "source": [
    "# features\n",
    "Xfeatures = df_train[\"text\"]\n",
    "ylabels = df_train[\"lang_id\"]"
   ]
  },
  {
   "cell_type": "code",
   "execution_count": 156,
   "id": "1c647eaa-bd18-4d69-a594-e87f9743aadf",
   "metadata": {},
   "outputs": [],
   "source": [
    "#Vectorize\n",
    "\n",
    "cv = CountVectorizer()\n",
    "X = cv.fit_transform(Xfeatures)"
   ]
  },
  {
   "cell_type": "code",
   "execution_count": 157,
   "id": "08d3b305-e2c3-4d7b-8fae-3354e19f56bc",
   "metadata": {},
   "outputs": [
    {
     "data": {
      "text/plain": [
       "array(['aa', 'aabameli', 'aadopthwe', ..., 'ṱuṱuwedzea', 'ṱuṱuwedzwa',\n",
       "       'ṱuṱuwedzwe'], dtype=object)"
      ]
     },
     "execution_count": 157,
     "metadata": {},
     "output_type": "execute_result"
    }
   ],
   "source": [
    "cv.get_feature_names_out()"
   ]
  },
  {
   "cell_type": "code",
   "execution_count": null,
   "id": "9393f4f5-bd4b-44f5-bfb2-030fb0c291c6",
   "metadata": {},
   "outputs": [],
   "source": []
  },
  {
   "cell_type": "code",
   "execution_count": 158,
   "id": "6355217d-7130-407b-aecf-57637536b2b5",
   "metadata": {},
   "outputs": [],
   "source": [
    "from sklearn.model_selection import train_test_split\n",
    "x_train, x_test, y_train, y_test = train_test_split(X, ylabels, test_size = 0.20, random_state=42)"
   ]
  },
  {
   "cell_type": "markdown",
   "id": "3d5db89b",
   "metadata": {},
   "source": [
    "### 5. Modelling"
   ]
  },
  {
   "cell_type": "markdown",
   "id": "0a0b2b0e",
   "metadata": {},
   "source": [
    "Lest us build our model. We are usin naives_bayes MultinomialNB"
   ]
  },
  {
   "cell_type": "code",
   "execution_count": 159,
   "id": "38536160",
   "metadata": {},
   "outputs": [
    {
     "data": {
      "text/plain": [
       "MultinomialNB()"
      ]
     },
     "execution_count": 159,
     "metadata": {},
     "output_type": "execute_result"
    }
   ],
   "source": [
    "## Build model\n",
    "nv = MultinomialNB()\n",
    "nv.fit(x_train, y_train)"
   ]
  },
  {
   "cell_type": "code",
   "execution_count": null,
   "id": "f20e4628",
   "metadata": {},
   "outputs": [],
   "source": []
  },
  {
   "cell_type": "code",
   "execution_count": 160,
   "id": "5ef98cf4-2dbc-4e98-81c3-9a15ca78674b",
   "metadata": {},
   "outputs": [],
   "source": [
    "pred = nv.predict(x_test)"
   ]
  },
  {
   "cell_type": "code",
   "execution_count": 161,
   "id": "4b07f234-8e96-488e-af06-927f25819ca9",
   "metadata": {},
   "outputs": [
    {
     "name": "stdout",
     "output_type": "stream",
     "text": [
      "['sot' 'nso' 'eng' ... 'afr' 'nso' 'eng']\n"
     ]
    }
   ],
   "source": [
    "print(pred)"
   ]
  },
  {
   "cell_type": "markdown",
   "id": "bb315d58",
   "metadata": {},
   "source": [
    "### 6. Model Analysis"
   ]
  },
  {
   "cell_type": "code",
   "execution_count": 162,
   "id": "184c6286",
   "metadata": {},
   "outputs": [
    {
     "name": "stdout",
     "output_type": "stream",
     "text": [
      "Accuracy is : 0.9989393939393939\n"
     ]
    }
   ],
   "source": [
    "from sklearn.metrics import accuracy_score, confusion_matrix, classification_report\n",
    "ac = accuracy_score(y_test, pred)\n",
    "cm = confusion_matrix(y_test, pred)\n",
    "cr = classification_report(y_test, pred)\n",
    "\n",
    "print(\"Accuracy is :\",ac)\n"
   ]
  },
  {
   "cell_type": "code",
   "execution_count": 166,
   "id": "d23ea167-78ef-4855-b06d-5903b3b3d7e1",
   "metadata": {},
   "outputs": [
    {
     "data": {
      "text/plain": [
       "array([0.9991431 , 0.99918765, 0.9974337 , 0.99919936, 0.99919159,\n",
       "       1.        , 0.99916318, 1.        , 1.        , 0.99835526,\n",
       "       0.99660441])"
      ]
     },
     "execution_count": 166,
     "metadata": {},
     "output_type": "execute_result"
    }
   ],
   "source": [
    "#F1 Score\n",
    "f1_score(y_test, pred, average = None)"
   ]
  },
  {
   "cell_type": "code",
   "execution_count": 167,
   "id": "77810c6e-beac-4061-bf47-c5545b066811",
   "metadata": {},
   "outputs": [],
   "source": [
    "#writing  CSV for kaggle\n",
    "submission = pd.DataFrame(pred, columns = ['lang_id'])\n",
    "submission['index'] = [i for i in range(1, len(submission.values)+1)]\n",
    "\n",
    "while len(submission)!= 5682:\n",
    "    submission = submission.drop(submission.index[-1])\n",
    "# you could use any filename. We choose submission here\n",
    "submission.to_csv('submissions.csv', index=False)"
   ]
  },
  {
   "cell_type": "code",
   "execution_count": 138,
   "id": "1f2b0795-12ac-42b2-9df8-e5e4a5828a90",
   "metadata": {},
   "outputs": [
    {
     "data": {
      "text/html": [
       "<div>\n",
       "<style scoped>\n",
       "    .dataframe tbody tr th:only-of-type {\n",
       "        vertical-align: middle;\n",
       "    }\n",
       "\n",
       "    .dataframe tbody tr th {\n",
       "        vertical-align: top;\n",
       "    }\n",
       "\n",
       "    .dataframe thead th {\n",
       "        text-align: right;\n",
       "    }\n",
       "</style>\n",
       "<table border=\"1\" class=\"dataframe\">\n",
       "  <thead>\n",
       "    <tr style=\"text-align: right;\">\n",
       "      <th></th>\n",
       "      <th>lang_id</th>\n",
       "      <th>index</th>\n",
       "    </tr>\n",
       "  </thead>\n",
       "  <tbody>\n",
       "    <tr>\n",
       "      <th>0</th>\n",
       "      <td>sot</td>\n",
       "      <td>1</td>\n",
       "    </tr>\n",
       "    <tr>\n",
       "      <th>1</th>\n",
       "      <td>nso</td>\n",
       "      <td>2</td>\n",
       "    </tr>\n",
       "    <tr>\n",
       "      <th>2</th>\n",
       "      <td>eng</td>\n",
       "      <td>3</td>\n",
       "    </tr>\n",
       "    <tr>\n",
       "      <th>3</th>\n",
       "      <td>nso</td>\n",
       "      <td>4</td>\n",
       "    </tr>\n",
       "    <tr>\n",
       "      <th>4</th>\n",
       "      <td>nso</td>\n",
       "      <td>5</td>\n",
       "    </tr>\n",
       "    <tr>\n",
       "      <th>...</th>\n",
       "      <td>...</td>\n",
       "      <td>...</td>\n",
       "    </tr>\n",
       "    <tr>\n",
       "      <th>5677</th>\n",
       "      <td>zul</td>\n",
       "      <td>5678</td>\n",
       "    </tr>\n",
       "    <tr>\n",
       "      <th>5678</th>\n",
       "      <td>tso</td>\n",
       "      <td>5679</td>\n",
       "    </tr>\n",
       "    <tr>\n",
       "      <th>5679</th>\n",
       "      <td>zul</td>\n",
       "      <td>5680</td>\n",
       "    </tr>\n",
       "    <tr>\n",
       "      <th>5680</th>\n",
       "      <td>sot</td>\n",
       "      <td>5681</td>\n",
       "    </tr>\n",
       "    <tr>\n",
       "      <th>5681</th>\n",
       "      <td>eng</td>\n",
       "      <td>5682</td>\n",
       "    </tr>\n",
       "  </tbody>\n",
       "</table>\n",
       "<p>5682 rows × 2 columns</p>\n",
       "</div>"
      ],
      "text/plain": [
       "     lang_id  index\n",
       "0        sot      1\n",
       "1        nso      2\n",
       "2        eng      3\n",
       "3        nso      4\n",
       "4        nso      5\n",
       "...      ...    ...\n",
       "5677     zul   5678\n",
       "5678     tso   5679\n",
       "5679     zul   5680\n",
       "5680     sot   5681\n",
       "5681     eng   5682\n",
       "\n",
       "[5682 rows x 2 columns]"
      ]
     },
     "execution_count": 138,
     "metadata": {},
     "output_type": "execute_result"
    }
   ],
   "source": [
    "#Prediction\n",
    "submission"
   ]
  },
  {
   "cell_type": "code",
   "execution_count": null,
   "id": "14a9ae8f-b60a-4cf0-969e-4548c23f60a4",
   "metadata": {},
   "outputs": [],
   "source": []
  },
  {
   "cell_type": "code",
   "execution_count": null,
   "id": "de564a63-b927-4b6b-8d2d-94ce67af5a51",
   "metadata": {},
   "outputs": [],
   "source": []
  }
 ],
 "metadata": {
  "kernelspec": {
   "display_name": "Python 3 (ipykernel)",
   "language": "python",
   "name": "python3"
  },
  "language_info": {
   "codemirror_mode": {
    "name": "ipython",
    "version": 3
   },
   "file_extension": ".py",
   "mimetype": "text/x-python",
   "name": "python",
   "nbconvert_exporter": "python",
   "pygments_lexer": "ipython3",
   "version": "3.9.7"
  }
 },
 "nbformat": 4,
 "nbformat_minor": 5
}
