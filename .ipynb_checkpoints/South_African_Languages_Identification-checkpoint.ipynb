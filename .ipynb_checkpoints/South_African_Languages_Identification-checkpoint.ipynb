{
 "cells": [
  {
   "cell_type": "markdown",
   "id": "4522a22f",
   "metadata": {},
   "source": [
    "# EDSA 2022 Classification Hackathon"
   ]
  },
  {
   "cell_type": "markdown",
   "id": "b9e92741",
   "metadata": {},
   "source": [
    "## South African Languages Identification"
   ]
  },
  {
   "cell_type": "markdown",
   "id": "8109fe60",
   "metadata": {},
   "source": [
    "By **LUNGISA NHLAKANIPHO JOCTREY**"
   ]
  },
  {
   "cell_type": "markdown",
   "id": "eb825645",
   "metadata": {},
   "source": [
    "South Africa is a multicultural society that is characterised by its rich linguistic diversity. Language is an indispensable tool that can be used to deepen democracy and also contribute to the social, cultural, intellectual, economic and political life of the South African society.\n",
    "\n",
    "The country is multilingual with 11 official languages, each of which is guaranteed equal status. Most South Africans are multilingual and able to speak at least two or more of the official languages.\n",
    "\n",
    "Credit:https://www.kaggle.com/competitions/south-african-language-identification/overview"
   ]
  },
  {
   "cell_type": "markdown",
   "id": "94677fd4",
   "metadata": {},
   "source": [
    "### Table of Contents"
   ]
  },
  {
   "cell_type": "markdown",
   "id": "8aafad15",
   "metadata": {},
   "source": [
    "1. Introduction\n",
    "2. Importing Packages and Data Loading\n",
    "3. Exploratory Data Analysis\n",
    "4. Data Preprocessing\n",
    "5. Modelling\n",
    "6. Model Analysis"
   ]
  },
  {
   "cell_type": "markdown",
   "id": "80a3d810",
   "metadata": {},
   "source": [
    "### 1. Introduction"
   ]
  },
  {
   "cell_type": "markdown",
   "id": "f4c387ef",
   "metadata": {},
   "source": [
    "The end goal of this project is to develop a model that will be able to take a piece if text and identify the language in which it is written. each prediction a modell will make will the be submitted to Kaggle where it will be evaluated and allocated a score and rank.\n",
    "\n",
    "I will start off by importing libraries that I can use to colpete the project at hand. Next, I will be loading train_set.csv as df_train and test_set.csv as df_test. After loading the data, I will then display the datasets, to see how they look like. \n",
    "\n",
    "Next, I will do the Exploratory Data Analysis (EDA) to gain insight on the data. In this section I will look for missing, values, null values and also see what data types are in the features. with help of graphs and words cloud, I will gain more insight on the data. I will also creat new features if necessary.\n",
    "\n",
    "Then I will do data preprocessing. Basically, this will be getting the data for the model.\n",
    "\n",
    "I will then build and train my models.\n"
   ]
  },
  {
   "cell_type": "markdown",
   "id": "4a7f8f89",
   "metadata": {},
   "source": [
    "### 2. Importing Packages and Data Loading"
   ]
  },
  {
   "cell_type": "markdown",
   "id": "bbc49c6e",
   "metadata": {},
   "source": [
    "#### 2.1 Importing Packages"
   ]
  },
  {
   "cell_type": "markdown",
   "id": "d195b4ac",
   "metadata": {},
   "source": [
    "The first thing I will do now is to load all the necessary libraries or modules needed for this project."
   ]
  },
  {
   "cell_type": "code",
   "execution_count": 112,
   "id": "608b5411",
   "metadata": {},
   "outputs": [],
   "source": [
    "#Importing Standard Data Science Packages\n",
    "import pandas as pd\n",
    "import numpy as np \n",
    "\n",
    "#Importing Language Classification Packages\n",
    "import sklearn\n",
    "import nltk\n",
    "import re\n",
    "from nltk import TreebankWordTokenizer, SnowballStemmer\n",
    "from nltk.stem import WordNetLemmatizer\n",
    "from nltk.corpus import stopwords\n",
    "\n",
    "#importing sklearn\n",
    "from sklearn.metrics import classification_report\n",
    "from sklearn.feature_extraction.text import CountVectorizer\n",
    "from sklearn.model_selection import train_test_split\n",
    "from sklearn.naive_bayes import MultinomialNB\n",
    "\n",
    "#Importinng Visualization Packages\n",
    "import matplotlib.pyplot as plt\n",
    "%matplotlib inline\n",
    "import seaborn as sns\n"
   ]
  },
  {
   "cell_type": "markdown",
   "id": "ace84929",
   "metadata": {},
   "source": [
    "#### 2.2 Loading Data"
   ]
  },
  {
   "cell_type": "markdown",
   "id": "af217e40",
   "metadata": {},
   "source": [
    "In this section, I will load the two datasets: train_set.csv and test_set.csv"
   ]
  },
  {
   "cell_type": "code",
   "execution_count": 113,
   "id": "b2abd9c2",
   "metadata": {},
   "outputs": [],
   "source": [
    "#loading datasets\n",
    "\n",
    "#training dataset\n",
    "\n",
    "df_train = pd.read_csv('resources/train_set.csv')\n",
    "\n",
    "#test dataset\n",
    "df_test = pd.read_csv('resources/test_set.csv')\n"
   ]
  },
  {
   "cell_type": "markdown",
   "id": "8f5dda9f",
   "metadata": {},
   "source": [
    "#### 2.3 Displaying Datasets"
   ]
  },
  {
   "cell_type": "markdown",
   "id": "a1896137",
   "metadata": {},
   "source": [
    "Lets us look at the datset as they are."
   ]
  },
  {
   "cell_type": "code",
   "execution_count": 114,
   "id": "b9b82737",
   "metadata": {},
   "outputs": [
    {
     "data": {
      "text/html": [
       "<div>\n",
       "<style scoped>\n",
       "    .dataframe tbody tr th:only-of-type {\n",
       "        vertical-align: middle;\n",
       "    }\n",
       "\n",
       "    .dataframe tbody tr th {\n",
       "        vertical-align: top;\n",
       "    }\n",
       "\n",
       "    .dataframe thead th {\n",
       "        text-align: right;\n",
       "    }\n",
       "</style>\n",
       "<table border=\"1\" class=\"dataframe\">\n",
       "  <thead>\n",
       "    <tr style=\"text-align: right;\">\n",
       "      <th></th>\n",
       "      <th>lang_id</th>\n",
       "      <th>text</th>\n",
       "    </tr>\n",
       "  </thead>\n",
       "  <tbody>\n",
       "    <tr>\n",
       "      <th>0</th>\n",
       "      <td>xho</td>\n",
       "      <td>umgaqo-siseko wenza amalungiselelo kumaziko ax...</td>\n",
       "    </tr>\n",
       "    <tr>\n",
       "      <th>1</th>\n",
       "      <td>xho</td>\n",
       "      <td>i-dha iya kuba nobulumko bokubeka umsebenzi na...</td>\n",
       "    </tr>\n",
       "    <tr>\n",
       "      <th>2</th>\n",
       "      <td>eng</td>\n",
       "      <td>the province of kwazulu-natal department of tr...</td>\n",
       "    </tr>\n",
       "    <tr>\n",
       "      <th>3</th>\n",
       "      <td>nso</td>\n",
       "      <td>o netefatša gore o ba file dilo ka moka tše le...</td>\n",
       "    </tr>\n",
       "    <tr>\n",
       "      <th>4</th>\n",
       "      <td>ven</td>\n",
       "      <td>khomishini ya ndinganyiso ya mbeu yo ewa maana...</td>\n",
       "    </tr>\n",
       "  </tbody>\n",
       "</table>\n",
       "</div>"
      ],
      "text/plain": [
       "  lang_id                                               text\n",
       "0     xho  umgaqo-siseko wenza amalungiselelo kumaziko ax...\n",
       "1     xho  i-dha iya kuba nobulumko bokubeka umsebenzi na...\n",
       "2     eng  the province of kwazulu-natal department of tr...\n",
       "3     nso  o netefatša gore o ba file dilo ka moka tše le...\n",
       "4     ven  khomishini ya ndinganyiso ya mbeu yo ewa maana..."
      ]
     },
     "execution_count": 114,
     "metadata": {},
     "output_type": "execute_result"
    }
   ],
   "source": [
    "#Displaying Training dataset\n",
    "df_train.head()"
   ]
  },
  {
   "cell_type": "code",
   "execution_count": 115,
   "id": "daf43ca0",
   "metadata": {},
   "outputs": [
    {
     "data": {
      "text/html": [
       "<div>\n",
       "<style scoped>\n",
       "    .dataframe tbody tr th:only-of-type {\n",
       "        vertical-align: middle;\n",
       "    }\n",
       "\n",
       "    .dataframe tbody tr th {\n",
       "        vertical-align: top;\n",
       "    }\n",
       "\n",
       "    .dataframe thead th {\n",
       "        text-align: right;\n",
       "    }\n",
       "</style>\n",
       "<table border=\"1\" class=\"dataframe\">\n",
       "  <thead>\n",
       "    <tr style=\"text-align: right;\">\n",
       "      <th></th>\n",
       "      <th>index</th>\n",
       "      <th>text</th>\n",
       "    </tr>\n",
       "  </thead>\n",
       "  <tbody>\n",
       "    <tr>\n",
       "      <th>0</th>\n",
       "      <td>1</td>\n",
       "      <td>Mmasepala, fa maemo a a kgethegileng a letlele...</td>\n",
       "    </tr>\n",
       "    <tr>\n",
       "      <th>1</th>\n",
       "      <td>2</td>\n",
       "      <td>Uzakwaziswa ngokufaneleko nakungafuneka eminye...</td>\n",
       "    </tr>\n",
       "    <tr>\n",
       "      <th>2</th>\n",
       "      <td>3</td>\n",
       "      <td>Tshivhumbeo tshi fana na ngano dza vhathu.</td>\n",
       "    </tr>\n",
       "    <tr>\n",
       "      <th>3</th>\n",
       "      <td>4</td>\n",
       "      <td>Kube inja nelikati betingevakala kutsi titsini...</td>\n",
       "    </tr>\n",
       "    <tr>\n",
       "      <th>4</th>\n",
       "      <td>5</td>\n",
       "      <td>Winste op buitelandse valuta.</td>\n",
       "    </tr>\n",
       "  </tbody>\n",
       "</table>\n",
       "</div>"
      ],
      "text/plain": [
       "   index                                               text\n",
       "0      1  Mmasepala, fa maemo a a kgethegileng a letlele...\n",
       "1      2  Uzakwaziswa ngokufaneleko nakungafuneka eminye...\n",
       "2      3         Tshivhumbeo tshi fana na ngano dza vhathu.\n",
       "3      4  Kube inja nelikati betingevakala kutsi titsini...\n",
       "4      5                      Winste op buitelandse valuta."
      ]
     },
     "execution_count": 115,
     "metadata": {},
     "output_type": "execute_result"
    }
   ],
   "source": [
    "#Displaying Test Set\n",
    "df_test.head()"
   ]
  },
  {
   "cell_type": "markdown",
   "id": "30b20d6a",
   "metadata": {},
   "source": [
    "At face value the training dataset appears to be in some what good condition. It is observable that all the words seem to be in the lower case. We shall further investigate the data in the EDA section.\n",
    "\n",
    "The Training data has two features, namely:\n",
    "- **lang_id** - this is the langauage Id\n",
    "- **text**   - the is the text we shall use to train the models   \n",
    "\n",
    "The test data needs some attention. Some words have capital letters and we need to change that in the EDA section.\n",
    "This also have two features, namely:\n",
    "- **index** - counting from 1 instead of 0\n",
    "- **text** - this the text to be use to test the model in making predictions of the language Id "
   ]
  },
  {
   "cell_type": "markdown",
   "id": "31e119a0",
   "metadata": {},
   "source": [
    "### 3. Exploratory Data Analysis  (EDA)"
   ]
  },
  {
   "cell_type": "markdown",
   "id": "6115fc50",
   "metadata": {},
   "source": [
    "In the section wes shall investigate both data sets to gain some insight. We will first check for missing or null values."
   ]
  },
  {
   "cell_type": "markdown",
   "id": "b692b953",
   "metadata": {},
   "source": [
    "#### 3.1 Training Dataset"
   ]
  },
  {
   "cell_type": "markdown",
   "id": "d2a6c00a",
   "metadata": {},
   "source": [
    "Let us check for NULL or missing values and basic info of the training dataset."
   ]
  },
  {
   "cell_type": "code",
   "execution_count": 116,
   "id": "3ad520f3",
   "metadata": {},
   "outputs": [
    {
     "name": "stdout",
     "output_type": "stream",
     "text": [
      "<class 'pandas.core.frame.DataFrame'>\n",
      "RangeIndex: 33000 entries, 0 to 32999\n",
      "Data columns (total 2 columns):\n",
      " #   Column   Non-Null Count  Dtype \n",
      "---  ------   --------------  ----- \n",
      " 0   lang_id  33000 non-null  object\n",
      " 1   text     33000 non-null  object\n",
      "dtypes: object(2)\n",
      "memory usage: 515.8+ KB\n"
     ]
    }
   ],
   "source": [
    "# get information on the data\n",
    "df_train.info()"
   ]
  },
  {
   "cell_type": "code",
   "execution_count": 117,
   "id": "b8c06b21",
   "metadata": {},
   "outputs": [
    {
     "data": {
      "text/plain": [
       "lang_id    0\n",
       "text       0\n",
       "dtype: int64"
      ]
     },
     "execution_count": 117,
     "metadata": {},
     "output_type": "execute_result"
    }
   ],
   "source": [
    "#Checking for NULL values\n",
    "\n",
    "df_train.isnull().sum()"
   ]
  },
  {
   "cell_type": "markdown",
   "id": "64c3cff2",
   "metadata": {},
   "source": [
    "Great! Our dataset has no NULL values and all the features are object types. b"
   ]
  },
  {
   "cell_type": "code",
   "execution_count": 118,
   "id": "a75591fd",
   "metadata": {},
   "outputs": [
    {
     "name": "stdout",
     "output_type": "stream",
     "text": [
      "!\"#$%&'()*+,-./:;<=>?@[\\]^_`{|}~\n"
     ]
    }
   ],
   "source": [
    "#Removing Pactuation\n",
    "\n",
    "import string\n",
    "print(string.punctuation)"
   ]
  },
  {
   "cell_type": "code",
   "execution_count": 119,
   "id": "0077eb00",
   "metadata": {},
   "outputs": [],
   "source": [
    "\n",
    "def remove_punctuation(post):\n",
    "    return ''.join([l for l in post if l not in string.punctuation])"
   ]
  },
  {
   "cell_type": "code",
   "execution_count": 120,
   "id": "913c8c70",
   "metadata": {},
   "outputs": [
    {
     "data": {
      "text/html": [
       "<div>\n",
       "<style scoped>\n",
       "    .dataframe tbody tr th:only-of-type {\n",
       "        vertical-align: middle;\n",
       "    }\n",
       "\n",
       "    .dataframe tbody tr th {\n",
       "        vertical-align: top;\n",
       "    }\n",
       "\n",
       "    .dataframe thead th {\n",
       "        text-align: right;\n",
       "    }\n",
       "</style>\n",
       "<table border=\"1\" class=\"dataframe\">\n",
       "  <thead>\n",
       "    <tr style=\"text-align: right;\">\n",
       "      <th></th>\n",
       "      <th>lang_id</th>\n",
       "      <th>text</th>\n",
       "    </tr>\n",
       "  </thead>\n",
       "  <tbody>\n",
       "    <tr>\n",
       "      <th>0</th>\n",
       "      <td>xho</td>\n",
       "      <td>umgaqosiseko wenza amalungiselelo kumaziko axh...</td>\n",
       "    </tr>\n",
       "    <tr>\n",
       "      <th>1</th>\n",
       "      <td>xho</td>\n",
       "      <td>idha iya kuba nobulumko bokubeka umsebenzi nap...</td>\n",
       "    </tr>\n",
       "    <tr>\n",
       "      <th>2</th>\n",
       "      <td>eng</td>\n",
       "      <td>the province of kwazulunatal department of tra...</td>\n",
       "    </tr>\n",
       "    <tr>\n",
       "      <th>3</th>\n",
       "      <td>nso</td>\n",
       "      <td>o netefatša gore o ba file dilo ka moka tše le...</td>\n",
       "    </tr>\n",
       "    <tr>\n",
       "      <th>4</th>\n",
       "      <td>ven</td>\n",
       "      <td>khomishini ya ndinganyiso ya mbeu yo ewa maana...</td>\n",
       "    </tr>\n",
       "    <tr>\n",
       "      <th>...</th>\n",
       "      <td>...</td>\n",
       "      <td>...</td>\n",
       "    </tr>\n",
       "    <tr>\n",
       "      <th>32995</th>\n",
       "      <td>tsn</td>\n",
       "      <td>popo ya dipolateforomo tse ke go tlisa boetele...</td>\n",
       "    </tr>\n",
       "    <tr>\n",
       "      <th>32996</th>\n",
       "      <td>sot</td>\n",
       "      <td>modise mosadi na o ntse o sa utlwe hore thaban...</td>\n",
       "    </tr>\n",
       "    <tr>\n",
       "      <th>32997</th>\n",
       "      <td>eng</td>\n",
       "      <td>closing date for the submission of completed t...</td>\n",
       "    </tr>\n",
       "    <tr>\n",
       "      <th>32998</th>\n",
       "      <td>xho</td>\n",
       "      <td>nawuphina umntu ofunyenwe enetyala phantsi kwa...</td>\n",
       "    </tr>\n",
       "    <tr>\n",
       "      <th>32999</th>\n",
       "      <td>sot</td>\n",
       "      <td>mafapha a mang le ona a lokela ho etsa ditlale...</td>\n",
       "    </tr>\n",
       "  </tbody>\n",
       "</table>\n",
       "<p>33000 rows × 2 columns</p>\n",
       "</div>"
      ],
      "text/plain": [
       "      lang_id                                               text\n",
       "0         xho  umgaqosiseko wenza amalungiselelo kumaziko axh...\n",
       "1         xho  idha iya kuba nobulumko bokubeka umsebenzi nap...\n",
       "2         eng  the province of kwazulunatal department of tra...\n",
       "3         nso  o netefatša gore o ba file dilo ka moka tše le...\n",
       "4         ven  khomishini ya ndinganyiso ya mbeu yo ewa maana...\n",
       "...       ...                                                ...\n",
       "32995     tsn  popo ya dipolateforomo tse ke go tlisa boetele...\n",
       "32996     sot  modise mosadi na o ntse o sa utlwe hore thaban...\n",
       "32997     eng  closing date for the submission of completed t...\n",
       "32998     xho  nawuphina umntu ofunyenwe enetyala phantsi kwa...\n",
       "32999     sot  mafapha a mang le ona a lokela ho etsa ditlale...\n",
       "\n",
       "[33000 rows x 2 columns]"
      ]
     },
     "execution_count": 120,
     "metadata": {},
     "output_type": "execute_result"
    }
   ],
   "source": [
    "df_train['text'] = df_train['text'].apply(remove_punctuation)\n",
    "df_train"
   ]
  },
  {
   "cell_type": "code",
   "execution_count": null,
   "id": "831e86fc",
   "metadata": {},
   "outputs": [],
   "source": []
  },
  {
   "cell_type": "code",
   "execution_count": 121,
   "id": "6beccabd",
   "metadata": {
    "scrolled": false
   },
   "outputs": [
    {
     "data": {
      "text/plain": [
       "<AxesSubplot:>"
      ]
     },
     "execution_count": 121,
     "metadata": {},
     "output_type": "execute_result"
    },
    {
     "data": {
      "image/png": "[encoded data removed]",
      "text/plain": [
       "<Figure size 432x288 with 1 Axes>"
      ]
     },
     "metadata": {
      "needs_background": "light"
     },
     "output_type": "display_data"
    }
   ],
   "source": [
    "#\n",
    "df_train.lang_id.value_counts().sort_values(ascending = False).plot(kind = 'bar')"
   ]
  },
  {
   "cell_type": "markdown",
   "id": "5d5b144b",
   "metadata": {},
   "source": [
    "In the above Bar Graph, the data seems to be fairly balanced."
   ]
  },
  {
   "cell_type": "code",
   "execution_count": null,
   "id": "21759037",
   "metadata": {},
   "outputs": [],
   "source": []
  },
  {
   "cell_type": "markdown",
   "id": "2d45178c",
   "metadata": {},
   "source": [
    "#### 3.2 Test Dataset"
   ]
  },
  {
   "cell_type": "markdown",
   "id": "5a974573",
   "metadata": {},
   "source": [
    "Let us check for null or missing values and basic info of the test dataset."
   ]
  },
  {
   "cell_type": "code",
   "execution_count": 122,
   "id": "3f167bc1",
   "metadata": {},
   "outputs": [
    {
     "name": "stdout",
     "output_type": "stream",
     "text": [
      "<class 'pandas.core.frame.DataFrame'>\n",
      "RangeIndex: 5682 entries, 0 to 5681\n",
      "Data columns (total 2 columns):\n",
      " #   Column  Non-Null Count  Dtype \n",
      "---  ------  --------------  ----- \n",
      " 0   index   5682 non-null   int64 \n",
      " 1   text    5682 non-null   object\n",
      "dtypes: int64(1), object(1)\n",
      "memory usage: 88.9+ KB\n"
     ]
    }
   ],
   "source": [
    "df_test.info()"
   ]
  },
  {
   "cell_type": "code",
   "execution_count": 123,
   "id": "5028e496",
   "metadata": {},
   "outputs": [
    {
     "data": {
      "text/plain": [
       "index    0\n",
       "text     0\n",
       "dtype: int64"
      ]
     },
     "execution_count": 123,
     "metadata": {},
     "output_type": "execute_result"
    }
   ],
   "source": [
    "#Checking for NULL values\n",
    "\n",
    "df_test.isnull().sum()"
   ]
  },
  {
   "cell_type": "markdown",
   "id": "1bb6f7c0",
   "metadata": {},
   "source": [
    "We are now going to change upper cases into lower case from the test dataset"
   ]
  },
  {
   "cell_type": "code",
   "execution_count": 124,
   "id": "81a94a88",
   "metadata": {},
   "outputs": [],
   "source": [
    "df_test['text'] = df_test['text'].str.lower()"
   ]
  },
  {
   "cell_type": "code",
   "execution_count": 125,
   "id": "9479fde2",
   "metadata": {},
   "outputs": [
    {
     "data": {
      "text/html": [
       "<div>\n",
       "<style scoped>\n",
       "    .dataframe tbody tr th:only-of-type {\n",
       "        vertical-align: middle;\n",
       "    }\n",
       "\n",
       "    .dataframe tbody tr th {\n",
       "        vertical-align: top;\n",
       "    }\n",
       "\n",
       "    .dataframe thead th {\n",
       "        text-align: right;\n",
       "    }\n",
       "</style>\n",
       "<table border=\"1\" class=\"dataframe\">\n",
       "  <thead>\n",
       "    <tr style=\"text-align: right;\">\n",
       "      <th></th>\n",
       "      <th>index</th>\n",
       "      <th>text</th>\n",
       "    </tr>\n",
       "  </thead>\n",
       "  <tbody>\n",
       "    <tr>\n",
       "      <th>0</th>\n",
       "      <td>1</td>\n",
       "      <td>mmasepala fa maemo a a kgethegileng a letlelel...</td>\n",
       "    </tr>\n",
       "    <tr>\n",
       "      <th>1</th>\n",
       "      <td>2</td>\n",
       "      <td>uzakwaziswa ngokufaneleko nakungafuneka eminye...</td>\n",
       "    </tr>\n",
       "    <tr>\n",
       "      <th>2</th>\n",
       "      <td>3</td>\n",
       "      <td>tshivhumbeo tshi fana na ngano dza vhathu</td>\n",
       "    </tr>\n",
       "    <tr>\n",
       "      <th>3</th>\n",
       "      <td>4</td>\n",
       "      <td>kube inja nelikati betingevakala kutsi titsini...</td>\n",
       "    </tr>\n",
       "    <tr>\n",
       "      <th>4</th>\n",
       "      <td>5</td>\n",
       "      <td>winste op buitelandse valuta</td>\n",
       "    </tr>\n",
       "    <tr>\n",
       "      <th>...</th>\n",
       "      <td>...</td>\n",
       "      <td>...</td>\n",
       "    </tr>\n",
       "    <tr>\n",
       "      <th>5677</th>\n",
       "      <td>5678</td>\n",
       "      <td>you mark your ballot in private</td>\n",
       "    </tr>\n",
       "    <tr>\n",
       "      <th>5678</th>\n",
       "      <td>5679</td>\n",
       "      <td>ge o ka kgetha ka bowena go se šomiše mofani k...</td>\n",
       "    </tr>\n",
       "    <tr>\n",
       "      <th>5679</th>\n",
       "      <td>5680</td>\n",
       "      <td>e ka kopo etsa kgetho ya hao ka hloko hobane h...</td>\n",
       "    </tr>\n",
       "    <tr>\n",
       "      <th>5680</th>\n",
       "      <td>5681</td>\n",
       "      <td>tb ke bokudi ba pmb mme morero o tla lefella t...</td>\n",
       "    </tr>\n",
       "    <tr>\n",
       "      <th>5681</th>\n",
       "      <td>5682</td>\n",
       "      <td>vakatjhela iwebhusayidi yethu kuwww</td>\n",
       "    </tr>\n",
       "  </tbody>\n",
       "</table>\n",
       "<p>5682 rows × 2 columns</p>\n",
       "</div>"
      ],
      "text/plain": [
       "      index                                               text\n",
       "0         1  mmasepala fa maemo a a kgethegileng a letlelel...\n",
       "1         2  uzakwaziswa ngokufaneleko nakungafuneka eminye...\n",
       "2         3          tshivhumbeo tshi fana na ngano dza vhathu\n",
       "3         4  kube inja nelikati betingevakala kutsi titsini...\n",
       "4         5                       winste op buitelandse valuta\n",
       "...     ...                                                ...\n",
       "5677   5678                    you mark your ballot in private\n",
       "5678   5679  ge o ka kgetha ka bowena go se šomiše mofani k...\n",
       "5679   5680  e ka kopo etsa kgetho ya hao ka hloko hobane h...\n",
       "5680   5681  tb ke bokudi ba pmb mme morero o tla lefella t...\n",
       "5681   5682                vakatjhela iwebhusayidi yethu kuwww\n",
       "\n",
       "[5682 rows x 2 columns]"
      ]
     },
     "execution_count": 125,
     "metadata": {},
     "output_type": "execute_result"
    }
   ],
   "source": [
    "df_test['text'] = df_test['text'].apply(remove_punctuation)\n",
    "df_test"
   ]
  },
  {
   "cell_type": "markdown",
   "id": "ee1c368c",
   "metadata": {},
   "source": [
    "### 4. Data Processing"
   ]
  },
  {
   "cell_type": "markdown",
   "id": "b6b47374",
   "metadata": {},
   "source": []
  },
  {
   "cell_type": "code",
   "execution_count": 132,
   "id": "56514cb7",
   "metadata": {},
   "outputs": [],
   "source": [
    "tokeniser = TreebankWordTokenizer()\n",
    "df_train['tokens'] = df_train['text'].apply(tokeniser.tokenize)"
   ]
  },
  {
   "cell_type": "code",
   "execution_count": 133,
   "id": "815f8ca2",
   "metadata": {},
   "outputs": [
    {
     "data": {
      "text/html": [
       "<div>\n",
       "<style scoped>\n",
       "    .dataframe tbody tr th:only-of-type {\n",
       "        vertical-align: middle;\n",
       "    }\n",
       "\n",
       "    .dataframe tbody tr th {\n",
       "        vertical-align: top;\n",
       "    }\n",
       "\n",
       "    .dataframe thead th {\n",
       "        text-align: right;\n",
       "    }\n",
       "</style>\n",
       "<table border=\"1\" class=\"dataframe\">\n",
       "  <thead>\n",
       "    <tr style=\"text-align: right;\">\n",
       "      <th></th>\n",
       "      <th>lang_id</th>\n",
       "      <th>text</th>\n",
       "      <th>tokens</th>\n",
       "    </tr>\n",
       "  </thead>\n",
       "  <tbody>\n",
       "    <tr>\n",
       "      <th>0</th>\n",
       "      <td>xho</td>\n",
       "      <td>umgaqosiseko wenza amalungiselelo kumaziko axh...</td>\n",
       "      <td>[umgaqosiseko, wenza, amalungiselelo, kumaziko...</td>\n",
       "    </tr>\n",
       "    <tr>\n",
       "      <th>1</th>\n",
       "      <td>xho</td>\n",
       "      <td>idha iya kuba nobulumko bokubeka umsebenzi nap...</td>\n",
       "      <td>[idha, iya, kuba, nobulumko, bokubeka, umseben...</td>\n",
       "    </tr>\n",
       "    <tr>\n",
       "      <th>2</th>\n",
       "      <td>eng</td>\n",
       "      <td>the province of kwazulunatal department of tra...</td>\n",
       "      <td>[the, province, of, kwazulunatal, department, ...</td>\n",
       "    </tr>\n",
       "    <tr>\n",
       "      <th>3</th>\n",
       "      <td>nso</td>\n",
       "      <td>o netefatša gore o ba file dilo ka moka tše le...</td>\n",
       "      <td>[o, netefatša, gore, o, ba, file, dilo, ka, mo...</td>\n",
       "    </tr>\n",
       "    <tr>\n",
       "      <th>4</th>\n",
       "      <td>ven</td>\n",
       "      <td>khomishini ya ndinganyiso ya mbeu yo ewa maana...</td>\n",
       "      <td>[khomishini, ya, ndinganyiso, ya, mbeu, yo, ew...</td>\n",
       "    </tr>\n",
       "    <tr>\n",
       "      <th>...</th>\n",
       "      <td>...</td>\n",
       "      <td>...</td>\n",
       "      <td>...</td>\n",
       "    </tr>\n",
       "    <tr>\n",
       "      <th>32995</th>\n",
       "      <td>tsn</td>\n",
       "      <td>popo ya dipolateforomo tse ke go tlisa boetele...</td>\n",
       "      <td>[popo, ya, dipolateforomo, tse, ke, go, tlisa,...</td>\n",
       "    </tr>\n",
       "    <tr>\n",
       "      <th>32996</th>\n",
       "      <td>sot</td>\n",
       "      <td>modise mosadi na o ntse o sa utlwe hore thaban...</td>\n",
       "      <td>[modise, mosadi, na, o, ntse, o, sa, utlwe, ho...</td>\n",
       "    </tr>\n",
       "    <tr>\n",
       "      <th>32997</th>\n",
       "      <td>eng</td>\n",
       "      <td>closing date for the submission of completed t...</td>\n",
       "      <td>[closing, date, for, the, submission, of, comp...</td>\n",
       "    </tr>\n",
       "    <tr>\n",
       "      <th>32998</th>\n",
       "      <td>xho</td>\n",
       "      <td>nawuphina umntu ofunyenwe enetyala phantsi kwa...</td>\n",
       "      <td>[nawuphina, umntu, ofunyenwe, enetyala, phants...</td>\n",
       "    </tr>\n",
       "    <tr>\n",
       "      <th>32999</th>\n",
       "      <td>sot</td>\n",
       "      <td>mafapha a mang le ona a lokela ho etsa ditlale...</td>\n",
       "      <td>[mafapha, a, mang, le, ona, a, lokela, ho, ets...</td>\n",
       "    </tr>\n",
       "  </tbody>\n",
       "</table>\n",
       "<p>33000 rows × 3 columns</p>\n",
       "</div>"
      ],
      "text/plain": [
       "      lang_id                                               text  \\\n",
       "0         xho  umgaqosiseko wenza amalungiselelo kumaziko axh...   \n",
       "1         xho  idha iya kuba nobulumko bokubeka umsebenzi nap...   \n",
       "2         eng  the province of kwazulunatal department of tra...   \n",
       "3         nso  o netefatša gore o ba file dilo ka moka tše le...   \n",
       "4         ven  khomishini ya ndinganyiso ya mbeu yo ewa maana...   \n",
       "...       ...                                                ...   \n",
       "32995     tsn  popo ya dipolateforomo tse ke go tlisa boetele...   \n",
       "32996     sot  modise mosadi na o ntse o sa utlwe hore thaban...   \n",
       "32997     eng  closing date for the submission of completed t...   \n",
       "32998     xho  nawuphina umntu ofunyenwe enetyala phantsi kwa...   \n",
       "32999     sot  mafapha a mang le ona a lokela ho etsa ditlale...   \n",
       "\n",
       "                                                  tokens  \n",
       "0      [umgaqosiseko, wenza, amalungiselelo, kumaziko...  \n",
       "1      [idha, iya, kuba, nobulumko, bokubeka, umseben...  \n",
       "2      [the, province, of, kwazulunatal, department, ...  \n",
       "3      [o, netefatša, gore, o, ba, file, dilo, ka, mo...  \n",
       "4      [khomishini, ya, ndinganyiso, ya, mbeu, yo, ew...  \n",
       "...                                                  ...  \n",
       "32995  [popo, ya, dipolateforomo, tse, ke, go, tlisa,...  \n",
       "32996  [modise, mosadi, na, o, ntse, o, sa, utlwe, ho...  \n",
       "32997  [closing, date, for, the, submission, of, comp...  \n",
       "32998  [nawuphina, umntu, ofunyenwe, enetyala, phants...  \n",
       "32999  [mafapha, a, mang, le, ona, a, lokela, ho, ets...  \n",
       "\n",
       "[33000 rows x 3 columns]"
      ]
     },
     "execution_count": 133,
     "metadata": {},
     "output_type": "execute_result"
    }
   ],
   "source": [
    "df_train"
   ]
  },
  {
   "cell_type": "code",
   "execution_count": 134,
   "id": "26b2955b",
   "metadata": {},
   "outputs": [],
   "source": [
    "# labels\n",
    "y = df_train['lang_id']\n",
    "\n",
    "# features\n",
    "X = df_train.drop('lang_id', axis=1)"
   ]
  },
  {
   "cell_type": "code",
   "execution_count": 135,
   "id": "cdfad956",
   "metadata": {},
   "outputs": [],
   "source": [
    "cv = CountVectorizer()"
   ]
  },
  {
   "cell_type": "code",
   "execution_count": 139,
   "id": "3268e545",
   "metadata": {},
   "outputs": [],
   "source": [
    "#split data\n",
    "X_train, X_test, y_train, y_test = train_test_split(X, y, test_size=0.2, random_state=45)"
   ]
  },
  {
   "cell_type": "code",
   "execution_count": 137,
   "id": "b3c3ae22",
   "metadata": {},
   "outputs": [],
   "source": [
    "X_traincv =  cv.fit_transform(X_train)"
   ]
  },
  {
   "cell_type": "code",
   "execution_count": 140,
   "id": "9b9672c7",
   "metadata": {},
   "outputs": [],
   "source": [
    "a=X_traincv.toarray()"
   ]
  },
  {
   "cell_type": "code",
   "execution_count": 141,
   "id": "7b6468dc",
   "metadata": {},
   "outputs": [
    {
     "data": {
      "text/plain": [
       "array([[1, 0],\n",
       "       [0, 1]], dtype=int64)"
      ]
     },
     "execution_count": 141,
     "metadata": {},
     "output_type": "execute_result"
    }
   ],
   "source": [
    "a"
   ]
  },
  {
   "cell_type": "markdown",
   "id": "3d5db89b",
   "metadata": {},
   "source": [
    "### 5. Modelling"
   ]
  },
  {
   "cell_type": "code",
   "execution_count": 145,
   "id": "18355c34",
   "metadata": {},
   "outputs": [
    {
     "data": {
      "text/html": [
       "<div>\n",
       "<style scoped>\n",
       "    .dataframe tbody tr th:only-of-type {\n",
       "        vertical-align: middle;\n",
       "    }\n",
       "\n",
       "    .dataframe tbody tr th {\n",
       "        vertical-align: top;\n",
       "    }\n",
       "\n",
       "    .dataframe thead th {\n",
       "        text-align: right;\n",
       "    }\n",
       "</style>\n",
       "<table border=\"1\" class=\"dataframe\">\n",
       "  <thead>\n",
       "    <tr style=\"text-align: right;\">\n",
       "      <th></th>\n",
       "      <th>text</th>\n",
       "      <th>tokens</th>\n",
       "    </tr>\n",
       "  </thead>\n",
       "  <tbody>\n",
       "    <tr>\n",
       "      <th>21177</th>\n",
       "      <td>dikhompi tša kgale tšeo di bego di hlamilwe go...</td>\n",
       "      <td>[dikhompi, tša, kgale, tšeo, di, bego, di, hla...</td>\n",
       "    </tr>\n",
       "    <tr>\n",
       "      <th>23394</th>\n",
       "      <td>motshwayi a hlokomele hore ha mohlahlobuwa a n...</td>\n",
       "      <td>[motshwayi, a, hlokomele, hore, ha, mohlahlobu...</td>\n",
       "    </tr>\n",
       "    <tr>\n",
       "      <th>17972</th>\n",
       "      <td>nanyana ngimuphi umuntu oqabela omunye ngabomu...</td>\n",
       "      <td>[nanyana, ngimuphi, umuntu, oqabela, omunye, n...</td>\n",
       "    </tr>\n",
       "    <tr>\n",
       "      <th>29139</th>\n",
       "      <td>isikolo semfundo ephakamileyo somthetho singan...</td>\n",
       "      <td>[isikolo, semfundo, ephakamileyo, somthetho, s...</td>\n",
       "    </tr>\n",
       "    <tr>\n",
       "      <th>19820</th>\n",
       "      <td>munhu unwana ni unwana loyi timfanelo ta yena ...</td>\n",
       "      <td>[munhu, unwana, ni, unwana, loyi, timfanelo, t...</td>\n",
       "    </tr>\n",
       "    <tr>\n",
       "      <th>...</th>\n",
       "      <td>...</td>\n",
       "      <td>...</td>\n",
       "    </tr>\n",
       "    <tr>\n",
       "      <th>32469</th>\n",
       "      <td>the iphulo lelrad liphulwana lenkqubo yokwabiw...</td>\n",
       "      <td>[the, iphulo, lelrad, liphulwana, lenkqubo, yo...</td>\n",
       "    </tr>\n",
       "    <tr>\n",
       "      <th>16317</th>\n",
       "      <td>ukwenza okwenziwa ngokugunyazwa okwenziwa ngok...</td>\n",
       "      <td>[ukwenza, okwenziwa, ngokugunyazwa, okwenziwa,...</td>\n",
       "    </tr>\n",
       "    <tr>\n",
       "      <th>12895</th>\n",
       "      <td>r million in r million in and r million in to ...</td>\n",
       "      <td>[r, million, in, r, million, in, and, r, milli...</td>\n",
       "    </tr>\n",
       "    <tr>\n",
       "      <th>6012</th>\n",
       "      <td>sekai sa bo ditherisano le dikgwebisano tsotlh...</td>\n",
       "      <td>[sekai, sa, bo, ditherisano, le, dikgwebisano,...</td>\n",
       "    </tr>\n",
       "    <tr>\n",
       "      <th>6558</th>\n",
       "      <td>indvuna yetetimali itawenaba kabanti ngaloludz...</td>\n",
       "      <td>[indvuna, yetetimali, itawenaba, kabanti, ngal...</td>\n",
       "    </tr>\n",
       "  </tbody>\n",
       "</table>\n",
       "<p>26400 rows × 2 columns</p>\n",
       "</div>"
      ],
      "text/plain": [
       "                                                    text  \\\n",
       "21177  dikhompi tša kgale tšeo di bego di hlamilwe go...   \n",
       "23394  motshwayi a hlokomele hore ha mohlahlobuwa a n...   \n",
       "17972  nanyana ngimuphi umuntu oqabela omunye ngabomu...   \n",
       "29139  isikolo semfundo ephakamileyo somthetho singan...   \n",
       "19820  munhu unwana ni unwana loyi timfanelo ta yena ...   \n",
       "...                                                  ...   \n",
       "32469  the iphulo lelrad liphulwana lenkqubo yokwabiw...   \n",
       "16317  ukwenza okwenziwa ngokugunyazwa okwenziwa ngok...   \n",
       "12895  r million in r million in and r million in to ...   \n",
       "6012   sekai sa bo ditherisano le dikgwebisano tsotlh...   \n",
       "6558   indvuna yetetimali itawenaba kabanti ngaloludz...   \n",
       "\n",
       "                                                  tokens  \n",
       "21177  [dikhompi, tša, kgale, tšeo, di, bego, di, hla...  \n",
       "23394  [motshwayi, a, hlokomele, hore, ha, mohlahlobu...  \n",
       "17972  [nanyana, ngimuphi, umuntu, oqabela, omunye, n...  \n",
       "29139  [isikolo, semfundo, ephakamileyo, somthetho, s...  \n",
       "19820  [munhu, unwana, ni, unwana, loyi, timfanelo, t...  \n",
       "...                                                  ...  \n",
       "32469  [the, iphulo, lelrad, liphulwana, lenkqubo, yo...  \n",
       "16317  [ukwenza, okwenziwa, ngokugunyazwa, okwenziwa,...  \n",
       "12895  [r, million, in, r, million, in, and, r, milli...  \n",
       "6012   [sekai, sa, bo, ditherisano, le, dikgwebisano,...  \n",
       "6558   [indvuna, yetetimali, itawenaba, kabanti, ngal...  \n",
       "\n",
       "[26400 rows x 2 columns]"
      ]
     },
     "execution_count": 145,
     "metadata": {},
     "output_type": "execute_result"
    }
   ],
   "source": []
  },
  {
   "cell_type": "code",
   "execution_count": 42,
   "id": "38536160",
   "metadata": {},
   "outputs": [],
   "source": [
    "# Instantiate regression tree model\n",
    "\n"
   ]
  },
  {
   "cell_type": "code",
   "execution_count": 43,
   "id": "f20e4628",
   "metadata": {},
   "outputs": [
    {
     "ename": "NameError",
     "evalue": "name 'X_train' is not defined",
     "output_type": "error",
     "traceback": [
      "\u001b[1;31m---------------------------------------------------------------------------\u001b[0m",
      "\u001b[1;31mNameError\u001b[0m                                 Traceback (most recent call last)",
      "\u001b[1;32m~\\AppData\\Local\\Temp/ipykernel_16472/3435776741.py\u001b[0m in \u001b[0;36m<module>\u001b[1;34m\u001b[0m\n\u001b[1;32m----> 1\u001b[1;33m \u001b[0mregr_tree\u001b[0m\u001b[1;33m.\u001b[0m\u001b[0mfit\u001b[0m\u001b[1;33m(\u001b[0m\u001b[0mX_train\u001b[0m\u001b[1;33m,\u001b[0m\u001b[0my_train\u001b[0m\u001b[1;33m)\u001b[0m\u001b[1;33m\u001b[0m\u001b[1;33m\u001b[0m\u001b[0m\n\u001b[0m",
      "\u001b[1;31mNameError\u001b[0m: name 'X_train' is not defined"
     ]
    }
   ],
   "source": []
  },
  {
   "cell_type": "code",
   "execution_count": null,
   "id": "b9d24ba5",
   "metadata": {},
   "outputs": [],
   "source": []
  },
  {
   "cell_type": "markdown",
   "id": "bb315d58",
   "metadata": {},
   "source": [
    "### 6. Model Analysis"
   ]
  },
  {
   "cell_type": "code",
   "execution_count": null,
   "id": "184c6286",
   "metadata": {},
   "outputs": [],
   "source": []
  },
  {
   "cell_type": "code",
   "execution_count": null,
   "id": "cad559bc",
   "metadata": {},
   "outputs": [],
   "source": []
  },
  {
   "cell_type": "code",
   "execution_count": null,
   "id": "a9df5a1c",
   "metadata": {},
   "outputs": [],
   "source": []
  }
 ],
 "metadata": {
  "kernelspec": {
   "display_name": "Python 3 (ipykernel)",
   "language": "python",
   "name": "python3"
  },
  "language_info": {
   "codemirror_mode": {
    "name": "ipython",
    "version": 3
   },
   "file_extension": ".py",
   "mimetype": "text/x-python",
   "name": "python",
   "nbconvert_exporter": "python",
   "pygments_lexer": "ipython3",
   "version": "3.9.7"
  }
 },
 "nbformat": 4,
 "nbformat_minor": 5
}
